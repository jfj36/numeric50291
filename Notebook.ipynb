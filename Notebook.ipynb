{
 "cells": [
  {
   "cell_type": "code",
   "execution_count": 1,
   "metadata": {},
   "outputs": [
    {
     "name": "stdout",
     "output_type": "stream",
     "text": [
      "Help on package simple_package:\n",
      "\n",
      "NAME\n",
      "    simple_package\n",
      "\n",
      "DESCRIPTION\n",
      "    # Init file for the package\n",
      "    # You can only import modules, not packages. Packages are just containers for modules or sub-packages.\n",
      "    # When you \"import\" a package you actually import the module __init__.py.\n",
      "\n",
      "PACKAGE CONTENTS\n",
      "    operations\n",
      "    statistics\n",
      "\n",
      "FILE\n",
      "    /Users/jfjimenez09/Library/CloudStorage/OneDrive-UniversityofBath/000_Bath_Master/01_Units/03_Programing_Data_Science/04_Mock_exams/numeric50291/simple_package/__init__.py\n",
      "\n",
      "\n",
      "['__builtins__', '__cached__', '__doc__', '__file__', '__loader__', '__name__', '__package__', '__path__', '__spec__', 'operations', 'statistics']\n"
     ]
    }
   ],
   "source": [
    "import simple_package as sp\n",
    "from inspect import getmembers, isfunction\n",
    "dir(help(sp))\n",
    "print(dir(sp))"
   ]
  },
  {
   "cell_type": "code",
   "execution_count": 2,
   "metadata": {},
   "outputs": [
    {
     "name": "stdout",
     "output_type": "stream",
     "text": [
      "[('add', <function add at 0x1073d4700>), ('divide', <function divide at 0x10740f8b0>), ('multiply', <function multiply at 0x10740f790>), ('subtract', <function subtract at 0x10740f700>)]\n"
     ]
    }
   ],
   "source": [
    "print(getmembers(sp.operations,isfunction))"
   ]
  },
  {
   "cell_type": "code",
   "execution_count": 4,
   "metadata": {},
   "outputs": [
    {
     "data": {
      "text/plain": [
       "3"
      ]
     },
     "execution_count": 4,
     "metadata": {},
     "output_type": "execute_result"
    }
   ],
   "source": [
    "operations.add(1, 2)"
   ]
  },
  {
   "cell_type": "code",
   "execution_count": 3,
   "metadata": {},
   "outputs": [
    {
     "name": "stdout",
     "output_type": "stream",
     "text": [
      "Username is: Juan\n"
     ]
    }
   ],
   "source": [
    "while userinput != \"exit\":\n",
    "    userinput = input(\"Enter a operation among add, subtract, multiply and divide:\")\n",
    "    \n",
    "    print(\"You entered: \" + userinput)\n",
    "\n"
   ]
  },
  {
   "cell_type": "code",
   "execution_count": null,
   "metadata": {},
   "outputs": [],
   "source": [
    "import pandas as pd\n",
    "\n",
    "# Read the Excel file\n",
    "df = pd.read_excel('path/to/your/file.xlsx')\n",
    "\n",
    "# Display the data\n",
    "print(df)\n"
   ]
  },
  {
   "cell_type": "code",
   "execution_count": null,
   "metadata": {},
   "outputs": [],
   "source": [
    "df.describe()\n"
   ]
  },
  {
   "cell_type": "code",
   "execution_count": null,
   "metadata": {},
   "outputs": [],
   "source": [
    "def interface():\n",
    "    userinput = \"\"\n",
    "    while userinput != \"exit\":\n",
    "        userinput = input(\"Enter an operation among add, subtract, multiply, and divide (or 'exit' to quit): \")\n",
    "        \n",
    "        if userinput == \"add\":\n",
    "            num1 = float(input(\"Enter the first number: \"))\n",
    "            num2 = float(input(\"Enter the second number: \"))\n",
    "            result = operations.add(num1, num2)\n",
    "            print(\"Result: \", result)\n",
    "        elif userinput == \"subtract\":\n",
    "            num1 = float(input(\"Enter the first number: \"))\n",
    "            num2 = float(input(\"Enter the second number: \"))\n",
    "            result = operations.subtract(num1, num2)\n",
    "            print(\"Result: \", result)\n",
    "        elif userinput == \"multiply\":\n",
    "            num1 = float(input(\"Enter the first number: \"))\n",
    "            num2 = float(input(\"Enter the second number: \"))\n",
    "            result = operations.multiply(num1, num2)\n",
    "            print(\"Result: \", result)\n",
    "        elif userinput == \"divide\":\n",
    "            num1 = float(input(\"Enter the first number: \"))\n",
    "            num2 = float(input(\"Enter the second number: \"))\n",
    "            result = operations.divide(num1, num2)\n",
    "            print(\"Result: \", result)\n",
    "        elif userinput == \"exit\":\n",
    "            print(\"Exiting...\")\n",
    "        else:\n",
    "            print(\"Invalid input. Please try again.\")\n",
    "\n",
    "interface()\n"
   ]
  }
 ],
 "metadata": {
  "kernelspec": {
   "display_name": "Python 3",
   "language": "python",
   "name": "python3"
  },
  "language_info": {
   "codemirror_mode": {
    "name": "ipython",
    "version": 3
   },
   "file_extension": ".py",
   "mimetype": "text/x-python",
   "name": "python",
   "nbconvert_exporter": "python",
   "pygments_lexer": "ipython3",
   "version": "3.9.6"
  }
 },
 "nbformat": 4,
 "nbformat_minor": 2
}
